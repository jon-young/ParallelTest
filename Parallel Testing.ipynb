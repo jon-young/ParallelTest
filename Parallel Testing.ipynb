{
 "cells": [
  {
   "cell_type": "code",
   "execution_count": 1,
   "metadata": {
    "collapsed": true
   },
   "outputs": [],
   "source": [
    "import itertools"
   ]
  },
  {
   "cell_type": "code",
   "execution_count": 9,
   "metadata": {
    "collapsed": true
   },
   "outputs": [],
   "source": [
    "import numpy as np"
   ]
  },
  {
   "cell_type": "markdown",
   "metadata": {},
   "source": [
    "Figure out how to divide an iterable into evenly-sized chunks."
   ]
  },
  {
   "cell_type": "code",
   "execution_count": 3,
   "metadata": {
    "collapsed": true
   },
   "outputs": [],
   "source": [
    "ids = ('C1', 'C2', 'C3', 'C4', 'C5', 'C6', 'C7', 'C8', 'C9')"
   ]
  },
  {
   "cell_type": "markdown",
   "metadata": {},
   "source": [
    "Suppose the iterable is a tuple of all possible pairs from *ids*:"
   ]
  },
  {
   "cell_type": "code",
   "execution_count": 4,
   "metadata": {
    "collapsed": true
   },
   "outputs": [],
   "source": [
    "pairs = tuple(itertools.combinations(ids, 2))"
   ]
  },
  {
   "cell_type": "code",
   "execution_count": 5,
   "metadata": {
    "collapsed": false
   },
   "outputs": [
    {
     "data": {
      "text/plain": [
       "36"
      ]
     },
     "execution_count": 5,
     "metadata": {},
     "output_type": "execute_result"
    }
   ],
   "source": [
    "len(pairs)"
   ]
  },
  {
   "cell_type": "markdown",
   "metadata": {},
   "source": [
    "Also suppose that there are 16 processors, each operating on a single chunk."
   ]
  },
  {
   "cell_type": "code",
   "execution_count": 6,
   "metadata": {
    "collapsed": true
   },
   "outputs": [],
   "source": [
    "numProc = 16"
   ]
  },
  {
   "cell_type": "code",
   "execution_count": 2,
   "metadata": {
    "collapsed": true
   },
   "outputs": [],
   "source": [
    "def get_chunk_lengths(vec, numProc):\n",
    "    \"\"\"Get the length of each chunk\"\"\"\n",
    "    numDivFloor = len(vec)//numProc\n",
    "    lengths = [numDivFloor]*numProc\n",
    "    remainder = len(vec) - numDivFloor*numProc\n",
    "    if remainder > len(vec):\n",
    "        print('Error: remainder greater than vector length')\n",
    "        return\n",
    "    else:\n",
    "        for i in range(remainder):\n",
    "            lengths[i] += 1\n",
    "        return lengths"
   ]
  },
  {
   "cell_type": "code",
   "execution_count": 7,
   "metadata": {
    "collapsed": true
   },
   "outputs": [],
   "source": [
    "splitlengths = get_chunk_lengths(pairs, numProc)"
   ]
  },
  {
   "cell_type": "code",
   "execution_count": 8,
   "metadata": {
    "collapsed": false
   },
   "outputs": [
    {
     "data": {
      "text/plain": [
       "[3, 3, 3, 3, 2, 2, 2, 2, 2, 2, 2, 2, 2, 2, 2, 2]"
      ]
     },
     "execution_count": 8,
     "metadata": {},
     "output_type": "execute_result"
    }
   ],
   "source": [
    "splitlengths"
   ]
  },
  {
   "cell_type": "code",
   "execution_count": 16,
   "metadata": {
    "collapsed": false
   },
   "outputs": [],
   "source": [
    "divpos = np.cumsum([0] + splitlengths)"
   ]
  },
  {
   "cell_type": "code",
   "execution_count": 17,
   "metadata": {
    "collapsed": false
   },
   "outputs": [
    {
     "data": {
      "text/plain": [
       "array([ 0,  3,  6,  9, 12, 14, 16, 18, 20, 22, 24, 26, 28, 30, 32, 34, 36])"
      ]
     },
     "execution_count": 17,
     "metadata": {},
     "output_type": "execute_result"
    }
   ],
   "source": [
    "divpos"
   ]
  },
  {
   "cell_type": "code",
   "execution_count": 18,
   "metadata": {
    "collapsed": false
   },
   "outputs": [
    {
     "data": {
      "text/plain": [
       "17"
      ]
     },
     "execution_count": 18,
     "metadata": {},
     "output_type": "execute_result"
    }
   ],
   "source": [
    "len(divpos)"
   ]
  },
  {
   "cell_type": "code",
   "execution_count": 22,
   "metadata": {
    "collapsed": true
   },
   "outputs": [],
   "source": [
    "def chunks(divpos, vec):\n",
    "    for i in range(len(divpos)-1):\n",
    "        yield vec[divpos[i]:divpos[i+1]]"
   ]
  },
  {
   "cell_type": "code",
   "execution_count": 23,
   "metadata": {
    "collapsed": false
   },
   "outputs": [
    {
     "data": {
      "text/plain": [
       "((('C1', 'C2'), ('C1', 'C3'), ('C1', 'C4')),\n",
       " (('C1', 'C5'), ('C1', 'C6'), ('C1', 'C7')),\n",
       " (('C1', 'C8'), ('C1', 'C9'), ('C2', 'C3')),\n",
       " (('C2', 'C4'), ('C2', 'C5'), ('C2', 'C6')),\n",
       " (('C2', 'C7'), ('C2', 'C8')),\n",
       " (('C2', 'C9'), ('C3', 'C4')),\n",
       " (('C3', 'C5'), ('C3', 'C6')),\n",
       " (('C3', 'C7'), ('C3', 'C8')),\n",
       " (('C3', 'C9'), ('C4', 'C5')),\n",
       " (('C4', 'C6'), ('C4', 'C7')),\n",
       " (('C4', 'C8'), ('C4', 'C9')),\n",
       " (('C5', 'C6'), ('C5', 'C7')),\n",
       " (('C5', 'C8'), ('C5', 'C9')),\n",
       " (('C6', 'C7'), ('C6', 'C8')),\n",
       " (('C6', 'C9'), ('C7', 'C8')),\n",
       " (('C7', 'C9'), ('C8', 'C9')))"
      ]
     },
     "execution_count": 23,
     "metadata": {},
     "output_type": "execute_result"
    }
   ],
   "source": [
    "tuple(chunks(divpos, pairs))"
   ]
  },
  {
   "cell_type": "markdown",
   "metadata": {},
   "source": [
    "Try it on an iterable that is the range of integers from 10 to 74, with number of processors equal to 7:"
   ]
  },
  {
   "cell_type": "code",
   "execution_count": 28,
   "metadata": {
    "collapsed": false
   },
   "outputs": [
    {
     "data": {
      "text/plain": [
       "((10, 11, 12, 13, 14, 15, 16, 17, 18, 19),\n",
       " (20, 21, 22, 23, 24, 25, 26, 27, 28, 29),\n",
       " (30, 31, 32, 33, 34, 35, 36, 37, 38),\n",
       " (39, 40, 41, 42, 43, 44, 45, 46, 47),\n",
       " (48, 49, 50, 51, 52, 53, 54, 55, 56),\n",
       " (57, 58, 59, 60, 61, 62, 63, 64, 65),\n",
       " (66, 67, 68, 69, 70, 71, 72, 73, 74))"
      ]
     },
     "execution_count": 28,
     "metadata": {},
     "output_type": "execute_result"
    }
   ],
   "source": [
    "numProc = 7\n",
    "v = tuple(range(10,75))\n",
    "splitLengths = get_chunk_lengths(v, numProc)\n",
    "divpos = np.cumsum([0] + splitLengths)\n",
    "tuple(chunks(divpos, v))"
   ]
  },
  {
   "cell_type": "code",
   "execution_count": null,
   "metadata": {
    "collapsed": true
   },
   "outputs": [],
   "source": []
  }
 ],
 "metadata": {
  "kernelspec": {
   "display_name": "Python 3",
   "language": "python",
   "name": "python3"
  },
  "language_info": {
   "codemirror_mode": {
    "name": "ipython",
    "version": 3
   },
   "file_extension": ".py",
   "mimetype": "text/x-python",
   "name": "python",
   "nbconvert_exporter": "python",
   "pygments_lexer": "ipython3",
   "version": "3.4.3"
  }
 },
 "nbformat": 4,
 "nbformat_minor": 0
}
